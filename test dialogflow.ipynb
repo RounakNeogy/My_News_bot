{
 "cells": [
  {
   "cell_type": "code",
   "execution_count": 1,
   "id": "38c122c5",
   "metadata": {},
   "outputs": [],
   "source": [
    "import os\n",
    "os.environ[\"GOOGLE_APPLICATION_CREDENTIALS\"] = \"client.json\"\n",
    "\n",
    "import dialogflow_v2 as dialogflow\n",
    "dialogflow_session_client = dialogflow.SessionsClient()\n",
    "PROJECT_ID = \"newsbot-wuvu\""
   ]
  },
  {
   "cell_type": "code",
   "execution_count": 2,
   "id": "0811d63f",
   "metadata": {},
   "outputs": [],
   "source": [
    "def detect_intent_from_text(text, session_id, language_code='en'):\n",
    "    session = dialogflow_session_client.session_path(PROJECT_ID, session_id)\n",
    "    text_input = dialogflow.types.TextInput(text=text, language_code=language_code)\n",
    "    query_input = dialogflow.types.QueryInput(text=text_input)\n",
    "    response = dialogflow_session_client.detect_intent(session=session, query_input=query_input)\n",
    "    return response.query_result"
   ]
  },
  {
   "cell_type": "code",
   "execution_count": 5,
   "id": "4c4b0068",
   "metadata": {},
   "outputs": [],
   "source": [
    "response = detect_intent_from_text(\"show me sports news from india in hindi\", 12345)"
   ]
  },
  {
   "cell_type": "code",
   "execution_count": 10,
   "id": "d0af4d8c",
   "metadata": {},
   "outputs": [
    {
     "data": {
      "text/plain": [
       "'get_news'"
      ]
     },
     "execution_count": 10,
     "metadata": {},
     "output_type": "execute_result"
    }
   ],
   "source": [
    "response.intent.display_name"
   ]
  },
  {
   "cell_type": "code",
   "execution_count": 8,
   "id": "eca14b33",
   "metadata": {},
   "outputs": [
    {
     "data": {
      "text/plain": [
       "{'topic': 'Sports', 'language': 'Hindi', 'geo-country': 'India'}"
      ]
     },
     "execution_count": 8,
     "metadata": {},
     "output_type": "execute_result"
    }
   ],
   "source": [
    "dict(response.parameters)"
   ]
  },
  {
   "cell_type": "code",
   "execution_count": 1,
   "id": "ca4e04f0",
   "metadata": {},
   "outputs": [
    {
     "name": "stderr",
     "output_type": "stream",
     "text": [
      "c:\\users\\asus\\appdata\\local\\programs\\python\\python38-32\\lib\\site-packages\\fuzzywuzzy\\fuzz.py:11: UserWarning: Using slow pure-python SequenceMatcher. Install python-Levenshtein to remove this warning\n",
      "  warnings.warn('Using slow pure-python SequenceMatcher. Install python-Levenshtein to remove this warning')\n"
     ]
    }
   ],
   "source": [
    "from gnewsclient import gnewsclient"
   ]
  },
  {
   "cell_type": "code",
   "execution_count": 2,
   "id": "b74c4831",
   "metadata": {},
   "outputs": [],
   "source": [
    "client=gnewsclient.NewsClient()"
   ]
  },
  {
   "cell_type": "code",
   "execution_count": 5,
   "id": "8dbd0c2e",
   "metadata": {},
   "outputs": [
    {
     "data": {
      "text/plain": [
       "{'location': 'United States', 'language': 'english', 'topic': 'Top Stories'}"
      ]
     },
     "execution_count": 5,
     "metadata": {},
     "output_type": "execute_result"
    }
   ],
   "source": [
    "client.get_config()"
   ]
  },
  {
   "cell_type": "code",
   "execution_count": 6,
   "id": "d0d554bc",
   "metadata": {},
   "outputs": [],
   "source": [
    "client.location='india'\n",
    "client.language='bengali'\n",
    "client.topic='sports'"
   ]
  },
  {
   "cell_type": "code",
   "execution_count": 8,
   "id": "1f55b3be",
   "metadata": {},
   "outputs": [
    {
     "data": {
      "text/plain": [
       "[{'title': 'French Open 2021: সুরকির কোর্টে শুক্রবার উল্টো দিকে নাদাল, কী বলছেন জোকোভিচ - Anandabazar Patrika',\n",
       "  'link': 'https://news.google.com/__i/rss/rd/articles/CBMihwFodHRwczovL3d3dy5hbmFuZGFiYXphci5jb20vc3BvcnRzL2ZyZW5jaC1vcGVuLTIwMjEtbm92YWstZGpva292aWMta25vd3MtdGhhdC1tYXRjaC1hZ2FpbnN0LXJhZmFlbC1uYWRhbC13aWxsLWJlLXRvdWdoLWRndGwvY2lkLzEyODYwODfSAYsBaHR0cHM6Ly93d3cuYW5hbmRhYmF6YXIuY29tL2FtcC9zcG9ydHMvZnJlbmNoLW9wZW4tMjAyMS1ub3Zhay1kam9rb3ZpYy1rbm93cy10aGF0LW1hdGNoLWFnYWluc3QtcmFmYWVsLW5hZGFsLXdpbGwtYmUtdG91Z2gtZGd0bC9jaWQvMTI4NjA4Nw?oc=5',\n",
       "  'media': None},\n",
       " {'title': 'ফের্নান্দেস-রোনালদোর গোলে পর্তুগালের বড় জয় - দেশ টিভি নিউজ',\n",
       "  'link': 'https://news.google.com/__i/rss/rd/articles/CBMi9wJodHRwczovL2Rlc2gudHYvc3BvcnRzL2RldGFpbHMvNjM1OTgtJUUwJUE2JUFCJUUwJUE3JTg3JUUwJUE2JUIwJUUwJUE3JThEJUUwJUE2JUE4JUUwJUE2JUJFJUUwJUE2JUE4JUUwJUE3JThEJUUwJUE2JUE2JUUwJUE3JTg3JUUwJUE2JUI4LSVFMCVBNiVCMCVFMCVBNyU4QiVFMCVBNiVBOCVFMCVBNiVCRSVFMCVBNiVCMiVFMCVBNiVBNiVFMCVBNyU4QiVFMCVBNiVCMC0lRTAlQTYlOTclRTAlQTclOEIlRTAlQTYlQjIlRTAlQTclODctJUUwJUE2JUFBJUUwJUE2JUIwJUUwJUE3JThEJUUwJUE2JUE0JUUwJUE3JTgxJUUwJUE2JTk3JUUwJUE2JUJFJUUwJUE2JUIyJUUwJUE3JTg3JUUwJUE2JUIwLSVFMCVBNiVBQyVFMCVBNyU5Qy0lRTAlQTYlOUMlRTAlQTclOUbSAQA?oc=5',\n",
       "  'media': None},\n",
       " {'title': 'শেষ ওভারে ২৭ রান নিয়েও দোলেশ্বরের হার - mzamin.com',\n",
       "  'link': 'https://news.google.com/__i/rss/rd/articles/CBMiLmh0dHBzOi8vbS5temFtaW4uY29tL2FydGljbGUucGhwP216YW1pbj0yNzc4NDHSAQA?oc=5',\n",
       "  'media': None},\n",
       " {'title': 'জয়ের বিধ্বংসী ব্যাটিং, ওল্ড ডিওএইচএসের ?... - bdcrictime.com Bangla',\n",
       "  'link': 'https://news.google.com/__i/rss/rd/articles/CBMi2wFodHRwczovL2JuLmJkY3JpY3RpbWUuY29tLyVFMCVBNiU5QyVFMCVBNyU5RiVFMCVBNyU4NyVFMCVBNiVCMC0lRTAlQTYlQUMlRTAlQTYlQkYlRTAlQTYlQTclRTAlQTclOEQlRTAlQTYlQUMlRTAlQTYlODIlRTAlQTYlQjglRTAlQTclODAtJUUwJUE2JUFDJUUwJUE3JThEJUUwJUE2JUFGJUUwJUE2JUJFJUUwJUE2JTlGJUUwJUE2JUJGJUUwJUE2JTgyLSVFMCVBNiU5MyVFMCVBNiVCMi_SAd8BaHR0cHM6Ly9ibi5iZGNyaWN0aW1lLmNvbS8lRTAlQTYlOUMlRTAlQTclOUYlRTAlQTclODclRTAlQTYlQjAtJUUwJUE2JUFDJUUwJUE2JUJGJUUwJUE2JUE3JUUwJUE3JThEJUUwJUE2JUFDJUUwJUE2JTgyJUUwJUE2JUI4JUUwJUE3JTgwLSVFMCVBNiVBQyVFMCVBNyU4RCVFMCVBNiVBRiVFMCVBNiVCRSVFMCVBNiU5RiVFMCVBNiVCRiVFMCVBNiU4Mi0lRTAlQTYlOTMlRTAlQTYlQjIvYW1wLw?oc=5',\n",
       "  'media': None},\n",
       " {'title': 'England vs New Zealand: টেস্ট চ্যাম্পিয়নশিপ ফাইনালের আগে চিন্তার ভাঁজ কিউই শিবিরে, কনুইয়ে চোট উইলিয়ামসনের - Anandabazar Patrika',\n",
       "  'link': 'https://news.google.com/__i/rss/rd/articles/CBMieGh0dHBzOi8vd3d3LmFuYW5kYWJhemFyLmNvbS9zcG9ydHMvaW5qdXJlZC1rYW5lLXdpbGxpYW1zb24tbWF5LWJlLXJlc3RlZC1pbi1zZWNvbmQtdGVzdC1hZ2FpbnN0LWVuZ2xhbmQtZGd0bC9jaWQvMTI4NTg3N9IBfGh0dHBzOi8vd3d3LmFuYW5kYWJhemFyLmNvbS9hbXAvc3BvcnRzL2luanVyZWQta2FuZS13aWxsaWFtc29uLW1heS1iZS1yZXN0ZWQtaW4tc2Vjb25kLXRlc3QtYWdhaW5zdC1lbmdsYW5kLWRndGwvY2lkLzEyODU4Nzc?oc=5',\n",
       "  'media': None},\n",
       " {'title': 'কোপা আমেরিকায় ব্রাজিল দলে আছেন যারা - Jugantor',\n",
       "  'link': 'https://news.google.com/__i/rss/rd/articles/CBMiugJodHRwczovL3d3dy5qdWdhbnRvci5jb20vc3BvcnRzLzQyOTkyMC8lRTAlQTYlOTUlRTAlQTclOEIlRTAlQTYlQUElRTAlQTYlQkUtJUUwJUE2JTg2JUUwJUE2JUFFJUUwJUE3JTg3JUUwJUE2JUIwJUUwJUE2JUJGJUUwJUE2JTk1JUUwJUE2JUJFJUUwJUE3JTlGLSVFMCVBNiVBQyVFMCVBNyU4RCVFMCVBNiVCMCVFMCVBNiVCRSVFMCVBNiU5QyVFMCVBNiVCRiVFMCVBNiVCMi0lRTAlQTYlQTYlRTAlQTYlQjIlRTAlQTclODctJUUwJUE2JTg2JUUwJUE2JTlCJUUwJUE3JTg3JUUwJUE2JUE4LSVFMCVBNiVBRiVFMCVBNiVCRSVFMCVBNiVCMCVFMCVBNiVCRdIBAA?oc=5',\n",
       "  'media': None},\n",
       " {'title': 'ফাইনালে রোহিত শর্মার সাথে কে ওপেনিং করব? ... - Sportzwiki Bengali',\n",
       "  'link': 'https://news.google.com/__i/rss/rd/articles/CBMic2h0dHBzOi8vYmVuZ2FsaS5zcG9ydHp3aWtpLmNvbS9uZXdzL3doby13aWxsLW9wZW4td2l0aC1yb2hpdC1zaGFybWEtaW4tdGhlLWZpbmFsLXl1dnJhai1zaW5naC1leHByZXNzZWQtaGlzLWNob2ljZS_SAXdodHRwczovL2JlbmdhbGkuc3BvcnR6d2lraS5jb20vbmV3cy93aG8td2lsbC1vcGVuLXdpdGgtcm9oaXQtc2hhcm1hLWluLXRoZS1maW5hbC15dXZyYWotc2luZ2gtZXhwcmVzc2VkLWhpcy1jaG9pY2UvYW1wLw?oc=5',\n",
       "  'media': None},\n",
       " {'title': 'আদৌ কি ব্রাজিলে কোপা আমেরিকা? খেলতে রাজি সাম্বা ব্রিগেড - এই সময়',\n",
       "  'link': 'https://news.google.com/__i/rss/rd/articles/CBMitwFodHRwczovL2Vpc2FtYXkuaW5kaWF0aW1lcy5jb20vc3BvcnRzL2Zvb3RiYWxsL25ld3MvaXQtaXMtdW5jZXJ0YWluLXRoYXQtd2hldGhlci1icmF6aWwtd2lsbC1ob3N0LWNvcGEtYW1lcmljYS0yMDIxLWFzLWNvdmlkLXBhbmRlbWljLXJpc2VzLWRheS1pbi1hbmQtZGF5LW91dC9hcnRpY2xlc2hvdy84MzM3MjgyMS5jbXPSAbsBaHR0cHM6Ly9laXNhbWF5LmluZGlhdGltZXMuY29tL3Nwb3J0cy9mb290YmFsbC9uZXdzL2l0LWlzLXVuY2VydGFpbi10aGF0LXdoZXRoZXItYnJhemlsLXdpbGwtaG9zdC1jb3BhLWFtZXJpY2EtMjAyMS1hcy1jb3ZpZC1wYW5kZW1pYy1yaXNlcy1kYXktaW4tYW5kLWRheS1vdXQvYW1wX2FydGljbGVzaG93LzgzMzcyODIxLmNtcw?oc=5',\n",
       "  'media': None},\n",
       " {'title': 'কিপ্টে বোলিং আর বিধ্বংসী ব্যাটিংয়ে লাহোরকে জেতালেন রশিদ - কালের কন্ঠ',\n",
       "  'link': 'https://news.google.com/__i/rss/rd/articles/CBMiO2h0dHBzOi8vd3d3LmthbGVya2FudGhvLmNvbS9vbmxpbmUvc3BvcnQvMjAyMS8wNi8xMC8xMDQxNzAy0gE_aHR0cHM6Ly93d3cua2FsZXJrYW50aG8uY29tL2FtcC9vbmxpbmUvc3BvcnQvMjAyMS8wNi8xMC8xMDQxNzAy?oc=5',\n",
       "  'media': None},\n",
       " {'title': 'ইন্টারনেট লাইফ - প্রিয়.কম',\n",
       "  'link': 'https://news.google.com/__i/rss/rd/articles/CBMi3wJodHRwczovL3d3dy5wcml5by5jb20vZS8zMjYyNTkwLSVFMCVBNiVCOCVFMCVBNiVCRSVFMCVBNiVCMiVFMCVBNiVCRSVFMCVBNiU4OSVFMCVBNiVBNiVFMCVBNyU4RCVFMCVBNiVBNiVFMCVBNiVCRiVFMCVBNiVBOCVFMCVBNyU4NyVFMCVBNiVCMC0lRTAlQTclQUItJUUwJUE2JTg5JUUwJUE2JTg3JUUwJUE2JTk1JUUwJUE3JTg3JUUwJUE2JTlGJUUwJUE3JTg3LSVFMCVBNiVBQyVFMCVBNiVCRiVFMCVBNiVBNyVFMCVBNyU4RCVFMCVBNiVBQyVFMCVBNiVCOCVFMCVBNyU4RCVFMCVBNiVBNC0lRTAlQTYlQUElRTAlQTYlQkUlRTAlQTYlQjAlRTAlQTYlOUYlRTAlQTclODclRTAlQTYlOTUlRTAlQTclOEQlRTAlQTYlQjjSAQA?oc=5',\n",
       "  'media': None}]"
      ]
     },
     "execution_count": 8,
     "metadata": {},
     "output_type": "execute_result"
    }
   ],
   "source": [
    "client.get_news()"
   ]
  },
  {
   "cell_type": "code",
   "execution_count": null,
   "id": "ab6048ce",
   "metadata": {},
   "outputs": [],
   "source": []
  }
 ],
 "metadata": {
  "kernelspec": {
   "display_name": "Python 3",
   "language": "python",
   "name": "python3"
  },
  "language_info": {
   "codemirror_mode": {
    "name": "ipython",
    "version": 3
   },
   "file_extension": ".py",
   "mimetype": "text/x-python",
   "name": "python",
   "nbconvert_exporter": "python",
   "pygments_lexer": "ipython3",
   "version": "3.8.3"
  }
 },
 "nbformat": 4,
 "nbformat_minor": 5
}
